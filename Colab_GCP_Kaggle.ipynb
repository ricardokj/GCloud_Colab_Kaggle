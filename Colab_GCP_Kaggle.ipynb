{
  "nbformat": 4,
  "nbformat_minor": 0,
  "metadata": {
    "colab": {
      "name": "Colab_GCP_Kaggle.ipynb",
      "provenance": [],
      "include_colab_link": true
    },
    "kernelspec": {
      "name": "python3",
      "display_name": "Python 3"
    }
  },
  "cells": [
    {
      "cell_type": "markdown",
      "metadata": {
        "id": "view-in-github",
        "colab_type": "text"
      },
      "source": [
        "<a href=\"https://colab.research.google.com/github/ricardokj/GCloud_Colab_Kaggle/blob/main/Colab_GCP_Kaggle.ipynb\" target=\"_parent\"><img src=\"https://colab.research.google.com/assets/colab-badge.svg\" alt=\"Open In Colab\"/></a>"
      ]
    },
    {
      "cell_type": "markdown",
      "metadata": {
        "id": "dJGoIfM0zNgI"
      },
      "source": [
        "# Google Cloud Platform + Colab + Kaggle"
      ]
    },
    {
      "cell_type": "markdown",
      "metadata": {
        "id": "ncd4jw7s3Mfk"
      },
      "source": [
        "## Inicialização de pacotes e variáveis"
      ]
    },
    {
      "cell_type": "code",
      "metadata": {
        "id": "JGDamCspqxp7"
      },
      "source": [
        "from google.cloud import storage\n",
        "from google.colab import auth\n",
        "from google.cloud import bigquery\n",
        "from random import randrange\n",
        "import time\n",
        "import os\n",
        "import pandas as pd\n",
        "import matplotlib.pyplot as plt\n",
        "import seaborn as sns\n",
        "import numpy as np\n",
        "\n",
        "\n",
        "color = sns.color_palette()\n",
        "start_time = time.time()\n",
        "project_id='gcp-colab-292521'\n",
        "bucket_name='gcp-colab-bucket'\n",
        "dataset='gcp_colab_lake'\n",
        "proj_dir=os.getcwd()\n",
        "arq_dir=proj_dir+'/arquivos'\n",
        "compet_kaggle=\"instacart-market-basket-analysis\"\n",
        "auth.authenticate_user()\n",
        "client = bigquery.Client(project=project_id)\n",
        "storage_client = storage.Client(project=project_id)"
      ],
      "execution_count": null,
      "outputs": []
    },
    {
      "cell_type": "markdown",
      "metadata": {
        "id": "g5kSzG2UzW0r"
      },
      "source": [
        "## Download da competição e unzip"
      ]
    },
    {
      "cell_type": "code",
      "metadata": {
        "id": "nMpy4_wttVAc"
      },
      "source": [
        "%%capture\n",
        "!mkdir -p {arq_dir} \n",
        "!kaggle competitions download -o -q -c {compet_kaggle} -p {arq_dir} \n",
        "!cd {arq_dir} && unzip -u \"*zip\" && rm -rf *.zip __MACOSX >/dev/null"
      ],
      "execution_count": null,
      "outputs": []
    },
    {
      "cell_type": "markdown",
      "metadata": {
        "id": "j_UN0naj-TU0"
      },
      "source": [
        "## Envio dos arquivos com paralelismo para Google Cloud Storage (680mb em 10 segundos)"
      ]
    },
    {
      "cell_type": "code",
      "metadata": {
        "id": "8SObV_pb-br_",
        "colab": {
          "base_uri": "https://localhost:8080/",
          "height": 217
        },
        "outputId": "b1db5dff-1019-4c74-b084-52d75f3c5d7d"
      },
      "source": [
        "%time !gsutil -m -o GSUtil:parallel_composite_upload_threshold=200M  cp {arq_dir}/*.csv gs://{bucket_name}/gcp-csv/"
      ],
      "execution_count": null,
      "outputs": [
        {
          "output_type": "stream",
          "text": [
            "Copying file:///content/arquivos/aisles.csv [Content-Type=text/csv]...\n",
            "/ [0/7 files][    0.0 B/681.7 MiB]   0% Done                                    \rCopying file:///content/arquivos/departments.csv [Content-Type=text/csv]...\n",
            "/ [0/7 files][    0.0 B/681.7 MiB]   0% Done                                    \rCopying file:///content/arquivos/order_products__prior.csv [Content-Type=text/csv]...\n",
            "/ [0/7 files][    0.0 B/681.7 MiB]   0% Done                                    \rCopying file:///content/arquivos/products.csv [Content-Type=text/csv]...\n",
            "/ [0/7 files][    0.0 B/681.7 MiB]   0% Done                                    \rCopying file:///content/arquivos/order_products__train.csv [Content-Type=text/csv]...\n",
            "/ [0/7 files][    0.0 B/681.7 MiB]   0% Done                                    \rCopying file:///content/arquivos/orders.csv [Content-Type=text/csv]...\n",
            "Copying file:///content/arquivos/sample_submission.csv [Content-Type=text/csv]...\n",
            "| [7/7 files][681.7 MiB/681.7 MiB] 100% Done                                    \n",
            "Operation completed over 7 objects/681.7 MiB.                                    \n",
            "CPU times: user 38 ms, sys: 18.2 ms, total: 56.2 ms\n",
            "Wall time: 9.03 s\n"
          ],
          "name": "stdout"
        }
      ]
    },
    {
      "cell_type": "markdown",
      "metadata": {
        "id": "tG4GvF2dCHmv"
      },
      "source": [
        "## Funções Python - Google Cloud Storage e Google BigQuery"
      ]
    },
    {
      "cell_type": "code",
      "metadata": {
        "id": "vu9SQ5OhC4Xm"
      },
      "source": [
        "def upload_bigquery(proj_id,dataset,tabela,arq_origem,formato):\n",
        "    !bq load --autodetect --replace --source_format={formato} --project_id {proj_id} {dataset}.{tabela} {arq_origem}\n",
        "\n",
        "def call_upload_bigquery(origem):\n",
        "    if origem == 'vm':\n",
        "      files = [f for f in os.listdir(arq_dir) ]\n",
        "      for f in files:\n",
        "        if 'csv' in f:\n",
        "          tab=f[0:f.index('.csv')]\n",
        "          arq=arq_dir+'/'+f\n",
        "          print('Envio de arquivo da vm para BigQuery: '+tab)\n",
        "          upload_bigquery(project_id,dataset,tab,arq,'CSV')\n",
        "                \n",
        "    elif origem == 'gstore':\n",
        "        blobs = storage_client.list_blobs(bucket_name)\n",
        "        for blob in blobs:\n",
        "            arq=blob.name\n",
        "            if '.csv' in arq:\n",
        "                tab=arq[arq.index('/')+1:arq.index('.csv')]\n",
        "                arq='gs://'+bucket_name+'/'+arq\n",
        "                print('Envio de arquivo do gstore para BigQuery: '+tab)\n",
        "                upload_bigquery(project_id,dataset,tab,arq,'CSV') "
      ],
      "execution_count": null,
      "outputs": []
    },
    {
      "cell_type": "markdown",
      "metadata": {
        "id": "hpebttzfGkxZ"
      },
      "source": [
        "## Upload dos arquivos da VM para Big Query ~ 2:20 min"
      ]
    },
    {
      "cell_type": "code",
      "metadata": {
        "id": "mbSAeZUADeTI"
      },
      "source": [
        "##%time call_upload_bigquery('vm')"
      ],
      "execution_count": null,
      "outputs": []
    },
    {
      "cell_type": "markdown",
      "metadata": {
        "id": "y_B6idZqIv4Y"
      },
      "source": [
        "## Upload dos arquivos da Cloud Storage para Big Query ~ 2 min"
      ]
    },
    {
      "cell_type": "code",
      "metadata": {
        "id": "k9nORKnvIwdN",
        "colab": {
          "base_uri": "https://localhost:8080/",
          "height": 781
        },
        "outputId": "836ef9a2-8675-44b1-8460-ac6a1ea3c5b4"
      },
      "source": [
        "%time call_upload_bigquery('gstore')\n",
        "print(\"--- %s seconds ---\" % (time.time() - start_time))"
      ],
      "execution_count": null,
      "outputs": [
        {
          "output_type": "stream",
          "text": [
            "Envio de arquivo do gstore para BigQuery: aisles\n",
            "\n",
            "Welcome to BigQuery! This script will walk you through the \n",
            "process of initializing your .bigqueryrc configuration file.\n",
            "\n",
            "First, we need to set up your credentials if they do not \n",
            "already exist.\n",
            "\n",
            "Credential creation complete. Now we will select a default project.\n",
            "\n",
            "List of projects:\n",
            "  #            projectId               friendlyName    \n",
            " --- ------------------------------ ------------------ \n",
            "  1   gcp-colab-292521               gcp-colab         \n",
            "  2   project--1575178859540344146   AppGoogleLogin    \n",
            "  3   project-44278132489095088      AppLoginGoogle    \n",
            "  4   gothic-isotope-292519          My First Project  \n",
            "  5   probable-byway-292520          My First Project  \n",
            "Found multiple projects. Please enter a selection for \n",
            "which should be the default, or leave blank to not \n",
            "set a default.\n",
            "\n",
            "Enter a selection (1 - 5): 1\n",
            "\n",
            "BigQuery configuration complete! Type \"bq\" to get started.\n",
            "\n",
            "Waiting on bqjob_r62f7dadb029820c2_00000175494524ef_1 ... (1s) Current status: DONE   \n",
            "Envio de arquivo do gstore para BigQuery: departments\n",
            "Waiting on bqjob_r2d2ba46842e1d177_00000175494531f2_1 ... (1s) Current status: DONE   \n",
            "Envio de arquivo do gstore para BigQuery: order_products__prior\n",
            "Waiting on bqjob_rdb3acb6634cba9_0000017549453f00_1 ... (47s) Current status: DONE   \n",
            "Envio de arquivo do gstore para BigQuery: order_products__train\n",
            "Waiting on bqjob_r3f1cd494c5cea302_00000175494601db_1 ... (6s) Current status: DONE   \n",
            "Envio de arquivo do gstore para BigQuery: orders\n",
            "Waiting on bqjob_r4a9a857c05d50b47_0000017549462396_1 ... (33s) Current status: DONE   \n",
            "Envio de arquivo do gstore para BigQuery: products\n",
            "Waiting on bqjob_r4ac7701ca3318c44_000001754946afcf_1 ... (2s) Current status: DONE   \n",
            "Envio de arquivo do gstore para BigQuery: sample_submission\n",
            "Waiting on bqjob_r3abbf07a9adda354_000001754946c0c0_1 ... (1s) Current status: DONE   \n",
            "CPU times: user 397 ms, sys: 130 ms, total: 527 ms\n",
            "Wall time: 1min 59s\n",
            "--- 185.52955174446106 seconds ---\n"
          ],
          "name": "stdout"
        }
      ]
    },
    {
      "cell_type": "markdown",
      "metadata": {
        "id": "ksRHVp1aCTw8"
      },
      "source": [
        "## Comandos SQL via BigQuery magic commands"
      ]
    },
    {
      "cell_type": "code",
      "metadata": {
        "id": "vPX5PjQY-ciG",
        "colab": {
          "base_uri": "https://localhost:8080/",
          "height": 258
        },
        "outputId": "82855285-6f82-4a26-cc0d-4bba16a76b86"
      },
      "source": [
        "%%bigquery --project {project_id}\n",
        "select table_id,\n",
        "  CAST(TIMESTAMP_MILLIS(last_modified_time - 3600000*3) AS DATETIME) as modate,\n",
        "  CAST(TIMESTAMP_MILLIS(creation_time - 3600000*3) AS DATETIME) as crdate,\n",
        "  round(size_bytes/1024/1024,2) as mb,row_count\n",
        "from gcp_colab_lake.__TABLES__ order by mb desc; "
      ],
      "execution_count": null,
      "outputs": [
        {
          "output_type": "execute_result",
          "data": {
            "text/html": [
              "<div>\n",
              "<style scoped>\n",
              "    .dataframe tbody tr th:only-of-type {\n",
              "        vertical-align: middle;\n",
              "    }\n",
              "\n",
              "    .dataframe tbody tr th {\n",
              "        vertical-align: top;\n",
              "    }\n",
              "\n",
              "    .dataframe thead th {\n",
              "        text-align: right;\n",
              "    }\n",
              "</style>\n",
              "<table border=\"1\" class=\"dataframe\">\n",
              "  <thead>\n",
              "    <tr style=\"text-align: right;\">\n",
              "      <th></th>\n",
              "      <th>table_id</th>\n",
              "      <th>modate</th>\n",
              "      <th>crdate</th>\n",
              "      <th>mb</th>\n",
              "      <th>row_count</th>\n",
              "    </tr>\n",
              "  </thead>\n",
              "  <tbody>\n",
              "    <tr>\n",
              "      <th>0</th>\n",
              "      <td>order_products__prior</td>\n",
              "      <td>2020-10-21 00:48:39.401</td>\n",
              "      <td>2020-10-17 17:35:44.455</td>\n",
              "      <td>989.82</td>\n",
              "      <td>32434489</td>\n",
              "    </tr>\n",
              "    <tr>\n",
              "      <th>1</th>\n",
              "      <td>orders</td>\n",
              "      <td>2020-10-21 00:49:19.617</td>\n",
              "      <td>2020-10-17 17:36:23.391</td>\n",
              "      <td>177.80</td>\n",
              "      <td>3421083</td>\n",
              "    </tr>\n",
              "    <tr>\n",
              "      <th>2</th>\n",
              "      <td>order_products__train</td>\n",
              "      <td>2020-10-21 00:48:53.099</td>\n",
              "      <td>2020-10-17 17:34:55.592</td>\n",
              "      <td>42.26</td>\n",
              "      <td>1384617</td>\n",
              "    </tr>\n",
              "    <tr>\n",
              "      <th>3</th>\n",
              "      <td>products</td>\n",
              "      <td>2020-10-21 00:49:33.118</td>\n",
              "      <td>2020-10-17 17:36:36.753</td>\n",
              "      <td>2.69</td>\n",
              "      <td>49688</td>\n",
              "    </tr>\n",
              "    <tr>\n",
              "      <th>4</th>\n",
              "      <td>sample_submission</td>\n",
              "      <td>2020-10-21 00:49:37.152</td>\n",
              "      <td>2020-10-17 17:36:01.542</td>\n",
              "      <td>1.50</td>\n",
              "      <td>75000</td>\n",
              "    </tr>\n",
              "    <tr>\n",
              "      <th>5</th>\n",
              "      <td>aisles</td>\n",
              "      <td>2020-10-21 00:47:51.380</td>\n",
              "      <td>2020-10-17 17:35:57.699</td>\n",
              "      <td>0.00</td>\n",
              "      <td>134</td>\n",
              "    </tr>\n",
              "    <tr>\n",
              "      <th>6</th>\n",
              "      <td>departments</td>\n",
              "      <td>2020-10-21 00:47:54.927</td>\n",
              "      <td>2020-10-17 17:36:32.207</td>\n",
              "      <td>0.00</td>\n",
              "      <td>21</td>\n",
              "    </tr>\n",
              "  </tbody>\n",
              "</table>\n",
              "</div>"
            ],
            "text/plain": [
              "                table_id                  modate  ...      mb  row_count\n",
              "0  order_products__prior 2020-10-21 00:48:39.401  ...  989.82   32434489\n",
              "1                 orders 2020-10-21 00:49:19.617  ...  177.80    3421083\n",
              "2  order_products__train 2020-10-21 00:48:53.099  ...   42.26    1384617\n",
              "3               products 2020-10-21 00:49:33.118  ...    2.69      49688\n",
              "4      sample_submission 2020-10-21 00:49:37.152  ...    1.50      75000\n",
              "5                 aisles 2020-10-21 00:47:51.380  ...    0.00        134\n",
              "6            departments 2020-10-21 00:47:54.927  ...    0.00         21\n",
              "\n",
              "[7 rows x 5 columns]"
            ]
          },
          "metadata": {
            "tags": []
          },
          "execution_count": 8
        }
      ]
    },
    {
      "cell_type": "markdown",
      "metadata": {
        "id": "zdXv0on2JQ_Q"
      },
      "source": [
        "## Criação da tabela de vendas por produto"
      ]
    },
    {
      "cell_type": "code",
      "metadata": {
        "id": "GMc2UuqiJU0O",
        "colab": {
          "base_uri": "https://localhost:8080/",
          "height": 348
        },
        "outputId": "67fbd569-b27e-49f7-ca6a-6f16ede363f4"
      },
      "source": [
        "%%bigquery --project {project_id}\n",
        "    create or replace table gcp_colab_dw.sales_product\n",
        "    as select distinct \n",
        "      a.product_id, a.product_name,c.aisle,d.department,\n",
        "      count(b.product_id) as sale_count, sum(b.reordered) as sale_reorder\n",
        "    from gcp_colab_lake.products a \n",
        "    left join gcp_colab_lake.order_products__prior b on a.product_id = b. product_id \n",
        "    left join gcp_colab_lake.aisles c on a.aisle_id=c.aisle_id\n",
        "    left join gcp_colab_lake.departments d on a.department_id = d.department_id\n",
        "    group by 1,2,3,4\n",
        "  order by sale_count desc;\n",
        "\n",
        "  select * from gcp_colab_dw.sales_product limit 10;"
      ],
      "execution_count": null,
      "outputs": [
        {
          "output_type": "execute_result",
          "data": {
            "text/html": [
              "<div>\n",
              "<style scoped>\n",
              "    .dataframe tbody tr th:only-of-type {\n",
              "        vertical-align: middle;\n",
              "    }\n",
              "\n",
              "    .dataframe tbody tr th {\n",
              "        vertical-align: top;\n",
              "    }\n",
              "\n",
              "    .dataframe thead th {\n",
              "        text-align: right;\n",
              "    }\n",
              "</style>\n",
              "<table border=\"1\" class=\"dataframe\">\n",
              "  <thead>\n",
              "    <tr style=\"text-align: right;\">\n",
              "      <th></th>\n",
              "      <th>product_id</th>\n",
              "      <th>product_name</th>\n",
              "      <th>aisle</th>\n",
              "      <th>department</th>\n",
              "      <th>sale_count</th>\n",
              "      <th>sale_reorder</th>\n",
              "    </tr>\n",
              "  </thead>\n",
              "  <tbody>\n",
              "    <tr>\n",
              "      <th>0</th>\n",
              "      <td>24852</td>\n",
              "      <td>Banana</td>\n",
              "      <td>fresh fruits</td>\n",
              "      <td>produce</td>\n",
              "      <td>472565</td>\n",
              "      <td>398609</td>\n",
              "    </tr>\n",
              "    <tr>\n",
              "      <th>1</th>\n",
              "      <td>13176</td>\n",
              "      <td>Bag of Organic Bananas</td>\n",
              "      <td>fresh fruits</td>\n",
              "      <td>produce</td>\n",
              "      <td>379450</td>\n",
              "      <td>315913</td>\n",
              "    </tr>\n",
              "    <tr>\n",
              "      <th>2</th>\n",
              "      <td>21137</td>\n",
              "      <td>Organic Strawberries</td>\n",
              "      <td>fresh fruits</td>\n",
              "      <td>produce</td>\n",
              "      <td>264683</td>\n",
              "      <td>205845</td>\n",
              "    </tr>\n",
              "    <tr>\n",
              "      <th>3</th>\n",
              "      <td>21903</td>\n",
              "      <td>Organic Baby Spinach</td>\n",
              "      <td>packaged vegetables fruits</td>\n",
              "      <td>produce</td>\n",
              "      <td>241921</td>\n",
              "      <td>186884</td>\n",
              "    </tr>\n",
              "    <tr>\n",
              "      <th>4</th>\n",
              "      <td>47209</td>\n",
              "      <td>Organic Hass Avocado</td>\n",
              "      <td>fresh fruits</td>\n",
              "      <td>produce</td>\n",
              "      <td>213584</td>\n",
              "      <td>170131</td>\n",
              "    </tr>\n",
              "    <tr>\n",
              "      <th>5</th>\n",
              "      <td>47766</td>\n",
              "      <td>Organic Avocado</td>\n",
              "      <td>fresh fruits</td>\n",
              "      <td>produce</td>\n",
              "      <td>176815</td>\n",
              "      <td>134044</td>\n",
              "    </tr>\n",
              "    <tr>\n",
              "      <th>6</th>\n",
              "      <td>47626</td>\n",
              "      <td>Large Lemon</td>\n",
              "      <td>fresh fruits</td>\n",
              "      <td>produce</td>\n",
              "      <td>152657</td>\n",
              "      <td>106255</td>\n",
              "    </tr>\n",
              "    <tr>\n",
              "      <th>7</th>\n",
              "      <td>16797</td>\n",
              "      <td>Strawberries</td>\n",
              "      <td>fresh fruits</td>\n",
              "      <td>produce</td>\n",
              "      <td>142951</td>\n",
              "      <td>99802</td>\n",
              "    </tr>\n",
              "    <tr>\n",
              "      <th>8</th>\n",
              "      <td>26209</td>\n",
              "      <td>Limes</td>\n",
              "      <td>fresh fruits</td>\n",
              "      <td>produce</td>\n",
              "      <td>140627</td>\n",
              "      <td>95768</td>\n",
              "    </tr>\n",
              "    <tr>\n",
              "      <th>9</th>\n",
              "      <td>27845</td>\n",
              "      <td>Organic Whole Milk</td>\n",
              "      <td>milk</td>\n",
              "      <td>dairy eggs</td>\n",
              "      <td>137905</td>\n",
              "      <td>114510</td>\n",
              "    </tr>\n",
              "  </tbody>\n",
              "</table>\n",
              "</div>"
            ],
            "text/plain": [
              "   product_id            product_name  ... sale_count sale_reorder\n",
              "0       24852                  Banana  ...     472565       398609\n",
              "1       13176  Bag of Organic Bananas  ...     379450       315913\n",
              "2       21137    Organic Strawberries  ...     264683       205845\n",
              "3       21903    Organic Baby Spinach  ...     241921       186884\n",
              "4       47209    Organic Hass Avocado  ...     213584       170131\n",
              "5       47766         Organic Avocado  ...     176815       134044\n",
              "6       47626             Large Lemon  ...     152657       106255\n",
              "7       16797            Strawberries  ...     142951        99802\n",
              "8       26209                   Limes  ...     140627        95768\n",
              "9       27845      Organic Whole Milk  ...     137905       114510\n",
              "\n",
              "[10 rows x 6 columns]"
            ]
          },
          "metadata": {
            "tags": []
          },
          "execution_count": 9
        }
      ]
    },
    {
      "cell_type": "markdown",
      "metadata": {
        "id": "rE26_TnMm2E5"
      },
      "source": [
        "## Criação da tabela orders_data com os campos order_date e week_number"
      ]
    },
    {
      "cell_type": "code",
      "metadata": {
        "id": "2HhU8Rl8m2xm",
        "colab": {
          "base_uri": "https://localhost:8080/",
          "height": 32
        },
        "outputId": "0885874e-9000-4f9f-c9da-f501acd1633c"
      },
      "source": [
        "%%bigquery --project {project_id}\n",
        "#tabela work para inserir o número da semana e calcular data de todos os pedidos\n",
        "create or replace table gcp_colab_dw.orders_date as \n",
        "#seleção que aplica o último dia de pedido como a data atual\n",
        "  select *, current_date('Brazil/East') - (max(days_after_first_order) over () - days_after_first_order) order_date\n",
        "from\n",
        "\n",
        "#seleção que cria o cálculo do número da semana\n",
        "( select distinct * except(dow,nrow),\n",
        "    CAST((case when nrow =1 then 0 else floor(sum(dow) over (partition by user_id order by order_number)) end) AS INT64) as  days_after_first_order,\n",
        "    CAST((case when nrow =1 then 0 else floor(sum(dow) over (partition by user_id order by order_number)  / 7 ) end) AS INT64) +1  as week_number\n",
        "  from \n",
        "  (\n",
        "    select *, \n",
        "    ## quando o primeiro dow for 0, alterar para 7\n",
        "    (case when first_value(order_dow) over (partition by user_id order by order_number) = 0 and row_number() over (partition by user_id ) =1 then 7 else \n",
        "    ## substitui nulo da primeira linha de cada cliente\n",
        "    ifnull(days_since_prior_order, first_value(order_dow) over (partition by user_id order by order_number))   end )   as dow ,\n",
        "    row_number() over (partition by user_id ) as nrow\n",
        "    from gcp_colab_lake.orders where eval_set = 'prior'\n",
        "  )\n",
        ")\n",
        "  order by order_date desc, user_id, order_number"
      ],
      "execution_count": null,
      "outputs": [
        {
          "output_type": "execute_result",
          "data": {
            "text/html": [
              "<div>\n",
              "<style scoped>\n",
              "    .dataframe tbody tr th:only-of-type {\n",
              "        vertical-align: middle;\n",
              "    }\n",
              "\n",
              "    .dataframe tbody tr th {\n",
              "        vertical-align: top;\n",
              "    }\n",
              "\n",
              "    .dataframe thead th {\n",
              "        text-align: right;\n",
              "    }\n",
              "</style>\n",
              "<table border=\"1\" class=\"dataframe\">\n",
              "  <thead>\n",
              "    <tr style=\"text-align: right;\">\n",
              "      <th></th>\n",
              "    </tr>\n",
              "  </thead>\n",
              "  <tbody>\n",
              "  </tbody>\n",
              "</table>\n",
              "</div>"
            ],
            "text/plain": [
              "Empty DataFrame\n",
              "Columns: []\n",
              "Index: []"
            ]
          },
          "metadata": {
            "tags": []
          },
          "execution_count": 10
        }
      ]
    },
    {
      "cell_type": "markdown",
      "metadata": {
        "id": "8KsUyH5vNQ3G"
      },
      "source": [
        "## Vendas por semana (BigQuery + Pandas)"
      ]
    },
    {
      "cell_type": "code",
      "metadata": {
        "id": "fhmKyp_jEnik"
      },
      "source": [
        "# Dataframe com a quantidade de pedidos por semana\n",
        "orders_week_amount = client.query('''\n",
        "  select distinct\n",
        "    count(order_id)/1000 as orders_amount,week_number\n",
        "  from gcp_colab_dw.orders_date\n",
        "group by week_number\n",
        "''').to_dataframe()\n",
        "\n",
        "# Dataframe com a quantidade de produtos por dia da semana\n",
        "products_dow = client.query('''\n",
        "  select count(a.product_id)/1000000 as products_amount,order_dow\n",
        "    from gcp_colab_lake.order_products__prior a\n",
        "    inner join gcp_colab_dw.orders_date b\n",
        "    on a.order_id=b.order_id where eval_set = 'prior'\n",
        "  group by 2 order by 2 \n",
        "''').to_dataframe()"
      ],
      "execution_count": null,
      "outputs": []
    },
    {
      "cell_type": "code",
      "metadata": {
        "id": "zHQrIMDwGHlk",
        "colab": {
          "base_uri": "https://localhost:8080/",
          "height": 800
        },
        "outputId": "f5fcb0cd-83bf-4a33-a386-d2f93421214d"
      },
      "source": [
        "# Quantidade de pedidos por semana\n",
        "plt.figure(figsize=(10,6))\n",
        "plt.bar(orders_week_amount.week_number,orders_week_amount.orders_amount)\n",
        "plt.ylabel('Quantidade de pedidos (x1000)', fontsize=12)\n",
        "plt.xlabel('Semana nº', fontsize=12)\n",
        "plt.xticks(rotation='vertical')\n",
        "plt.title(\"Quantidade de vendas por semana\", fontsize=15)\n",
        "plt.show()\n",
        "\n",
        "# Quantidade de produtos por dia da semana\n",
        "plt.figure(figsize=(10,6))\n",
        "plt.bar(products_dow.order_dow,products_dow.products_amount)\n",
        "plt.ylabel('Quantidade de produtos (mi)', fontsize=12)\n",
        "plt.xlabel('Dia da semana', fontsize=12)\n",
        "plt.xticks(rotation='vertical')\n",
        "plt.title(\"Quantidade de produtos por dia da semana (mi)\", fontsize=15)\n",
        "plt.show()"
      ],
      "execution_count": null,
      "outputs": [
        {
          "output_type": "display_data",
          "data": {
            "image/png": "[encoded data removed]",
            "text/plain": [
              "<Figure size 720x432 with 1 Axes>"
            ]
          },
          "metadata": {
            "tags": [],
            "needs_background": "light"
          }
        },
        {
          "output_type": "display_data",
          "data": {
            "image/png": "[encoded data removed]",
            "text/plain": [
              "<Figure size 720x432 with 1 Axes>"
            ]
          },
          "metadata": {
            "tags": [],
            "needs_background": "light"
          }
        }
      ]
    },
    {
      "cell_type": "markdown",
      "metadata": {
        "id": "qHnuULuhO1fy"
      },
      "source": [
        "## Qualidade de dados"
      ]
    },
    {
      "cell_type": "markdown",
      "metadata": {
        "id": "5xdpVsPrk2uv"
      },
      "source": [
        "## Simula comportamento diário da tabela orders"
      ]
    },
    {
      "cell_type": "code",
      "metadata": {
        "id": "-2_Ur5qlkxcI",
        "colab": {
          "base_uri": "https://localhost:8080/",
          "height": 78
        },
        "outputId": "36edac82-0ce0-4029-f097-2e9026969f5e"
      },
      "source": [
        "## Cria tabela de amostra para estudo das colunas\n",
        "amostra=100000\n",
        "orders_week_sample = client.query('''\n",
        "  SELECT * FROM gcp_colab_dw.orders_date where week_number between 5 and 20 limit %d\n",
        "''' % (amostra)).to_dataframe()\n",
        "\n",
        "## Obtém volumetria da tabela\n",
        "stat_ref = client.query('''\n",
        "  select distinct \n",
        "      cast(avg(qtd) as int64) as obs_avg,\n",
        "      max(qtd) as obs_max,min(qtd) as obs_min, \n",
        "      cast(stddev(qtd) as int64) as obs_std\n",
        "      ,#(select count(*) from gcp_colab_dw.orders_date) as qtd_registros\n",
        "    from\n",
        "  (select count(*) as qtd, order_date from gcp_colab_dw.orders_date where week_number between 5 and 20 group by order_date)\n",
        "''').to_dataframe()\n",
        "\n",
        "\n",
        "## Obtém estatísticas da tabela histórica (tabela exemplo)\n",
        "desc_sample=orders_week_sample.describe().round().transpose()[['mean','min','max']].iloc[2:].loc[['order_number','order_dow','order_hour_of_day']]\n",
        "stat_ref['qtd_colunas'] = orders_week_sample.shape[1]\n",
        "stat_ref['order_number'] = [desc_sample.loc['order_number'].to_numpy().tolist()]\n",
        "stat_ref['order_dow'] = [desc_sample.loc['order_dow'].to_numpy().tolist()]\n",
        "stat_ref['order_hour_of_day'] = [desc_sample.loc['order_hour_of_day'].to_numpy().tolist()]\n",
        "stat_ref=stat_ref.reindex(sorted(stat_ref.columns, reverse=True), axis=1)\n",
        "stat_ref"
      ],
      "execution_count": null,
      "outputs": [
        {
          "output_type": "execute_result",
          "data": {
            "text/html": [
              "<div>\n",
              "<style scoped>\n",
              "    .dataframe tbody tr th:only-of-type {\n",
              "        vertical-align: middle;\n",
              "    }\n",
              "\n",
              "    .dataframe tbody tr th {\n",
              "        vertical-align: top;\n",
              "    }\n",
              "\n",
              "    .dataframe thead th {\n",
              "        text-align: right;\n",
              "    }\n",
              "</style>\n",
              "<table border=\"1\" class=\"dataframe\">\n",
              "  <thead>\n",
              "    <tr style=\"text-align: right;\">\n",
              "      <th></th>\n",
              "      <th>qtd_colunas</th>\n",
              "      <th>order_number</th>\n",
              "      <th>order_hour_of_day</th>\n",
              "      <th>order_dow</th>\n",
              "      <th>obs_std</th>\n",
              "      <th>obs_min</th>\n",
              "      <th>obs_max</th>\n",
              "      <th>obs_avg</th>\n",
              "    </tr>\n",
              "  </thead>\n",
              "  <tbody>\n",
              "    <tr>\n",
              "      <th>0</th>\n",
              "      <td>10</td>\n",
              "      <td>[17.0, 6.0, 99.0]</td>\n",
              "      <td>[13.0, 0.0, 23.0]</td>\n",
              "      <td>[3.0, 0.0, 6.0]</td>\n",
              "      <td>2892</td>\n",
              "      <td>8913</td>\n",
              "      <td>23029</td>\n",
              "      <td>12826</td>\n",
              "    </tr>\n",
              "  </tbody>\n",
              "</table>\n",
              "</div>"
            ],
            "text/plain": [
              "   qtd_colunas       order_number  order_hour_of_day  ... obs_min  obs_max  obs_avg\n",
              "0           10  [17.0, 6.0, 99.0]  [13.0, 0.0, 23.0]  ...    8913    23029    12826\n",
              "\n",
              "[1 rows x 8 columns]"
            ]
          },
          "metadata": {
            "tags": []
          },
          "execution_count": 13
        }
      ]
    },
    {
      "cell_type": "markdown",
      "metadata": {
        "id": "Hm3rYkWOI8Fu"
      },
      "source": [
        "## Função para obter estatísticas da tabela diária (aleatória)"
      ]
    },
    {
      "cell_type": "code",
      "metadata": {
        "id": "lG__qeF00_3Y"
      },
      "source": [
        "## Obtém um dia aleatório para comparar com o padrão da tabela\n",
        "def gera_amostra_diaria():\n",
        "  global stat_orders_hj, orders_hj\n",
        "  orders_hj = client.query('''\n",
        "    select * from gcp_colab_dw.orders_date where order_date in (select distinct order_date from gcp_colab_dw.orders_date order by rand() limit 1);\n",
        "  ''').to_dataframe()\n",
        "  desc_aleatorio=orders_hj.describe().round().transpose()[['mean','min','max']].loc[['order_number','order_dow','order_hour_of_day']]\n",
        "  stat_orders_hj = pd.DataFrame()\n",
        "  stat_orders_hj.loc[0,'qtd_colunas'] = orders_hj.shape[1]\n",
        "  stat_orders_hj.loc[0,'qtd_registros'] = orders_hj.shape[0]\n",
        "  stat_orders_hj.loc[0,'data'] = orders_hj.order_date[0]\n",
        "  stat_orders_hj['order_number'] = [desc_aleatorio.loc['order_number'].to_numpy().tolist()]\n",
        "  stat_orders_hj['order_dow'] = [desc_aleatorio.loc['order_dow'].to_numpy().tolist()]\n",
        "  stat_orders_hj['order_hour_of_day'] = [desc_aleatorio.loc['order_hour_of_day'].to_numpy().tolist()]\n",
        "  stat_orders_hj.reindex(sorted(orders_hj.columns, reverse=True), axis=1)"
      ],
      "execution_count": null,
      "outputs": []
    },
    {
      "cell_type": "markdown",
      "metadata": {
        "id": "Pms6SpdFlfMR"
      },
      "source": [
        "## Função de qualidade para validar tabela diária"
      ]
    },
    {
      "cell_type": "code",
      "metadata": {
        "id": "qYMqcQpQIx1O"
      },
      "source": [
        "li = []\n",
        "historico_erro = pd.DataFrame(columns={'data','qtd_registros','qtd_registros_flag','qtd_colunas','qtd_colunas_flag','order_hour_of_day','order_hour_of_day_flag','order_dow','order_dow_flag'})\n",
        "\n",
        "def valida_stats(tab_atual, stat_ref,pct):\n",
        "  global historico_erro\n",
        "  df_erro = pd.DataFrame(columns={'data','qtd_registros','qtd_registros_flag','qtd_colunas','qtd_colunas_flag','order_hour_of_day','order_hour_of_day_flag',         'order_dow','order_dow_flag'})  \n",
        "  df_erro.loc[0,'data']=tab_atual.data.item()\n",
        "  df_erro.loc[0,'qtd_colunas']=tab_atual.qtd_colunas.item()\n",
        "  df_erro.loc[0,'qtd_registros']=tab_atual.qtd_registros.item()\n",
        "  df_erro.loc[0,'order_hour_of_day']=tab_atual.order_hour_of_day.item()\n",
        "  df_erro.loc[0,'order_dow']=tab_atual.order_dow.item()\n",
        "\n",
        "  # Valida registros\n",
        "  if (abs( (tab_atual.qtd_registros.item() - stat_ref.obs_avg.item()) / stat_ref.obs_avg.item()) >= pct):\n",
        "    df_erro.loc[0,'qtd_registros_flag']=1\n",
        "\n",
        "  # Valida quantidade de colunas\n",
        "  if (tab_atual.qtd_colunas.item() != stat_ref.qtd_colunas.item()):\n",
        "    df_erro.loc[0,'qtd_colunas_flag']=1\n",
        "\n",
        "  # Valida mínimos e máximos das colunas DOW e Hour of day\n",
        "  for coluna in ['order_hour_of_day','order_dow']:\n",
        "    if stat_orders_hj[coluna][0][1] < stat_ref[coluna][0][1] or stat_orders_hj[coluna][0][2] > stat_ref[coluna][0][2]:\n",
        "      df_erro.loc[0,coluna+'_flag']=1\n",
        "\n",
        "  # Append do dia atual na tabela de histórico de erros\n",
        "  historico_erro=historico_erro.append(df_erro, ignore_index=True).fillna(0).round(0)\n"
      ],
      "execution_count": null,
      "outputs": []
    },
    {
      "cell_type": "markdown",
      "metadata": {
        "id": "d8UXJGSnl174"
      },
      "source": [
        "## Executa função de qualidade"
      ]
    },
    {
      "cell_type": "code",
      "metadata": {
        "id": "Srqgfd5Cl1IY",
        "colab": {
          "base_uri": "https://localhost:8080/",
          "height": 263
        },
        "outputId": "21d0ba2d-2397-43da-ffc8-b1443ef5c70c"
      },
      "source": [
        "gera_amostra_diaria()\n",
        "valida_stats(stat_orders_hj,stat_ref,0.40)\n",
        "\n",
        "print(\"\\nTabela de estatística:\\n\"+stat_ref.to_string())\n",
        "historico_erro.reindex(sorted(historico_erro.columns), axis=1)"
      ],
      "execution_count": null,
      "outputs": [
        {
          "output_type": "stream",
          "text": [
            "\n",
            "Tabela de estatística:\n",
            "   qtd_colunas       order_number  order_hour_of_day        order_dow  obs_std  obs_min  obs_max  obs_avg\n",
            "0           10  [17.0, 6.0, 99.0]  [13.0, 0.0, 23.0]  [3.0, 0.0, 6.0]     2892     8913    23029    12826\n"
          ],
          "name": "stdout"
        },
        {
          "output_type": "execute_result",
          "data": {
            "text/html": [
              "<div>\n",
              "<style scoped>\n",
              "    .dataframe tbody tr th:only-of-type {\n",
              "        vertical-align: middle;\n",
              "    }\n",
              "\n",
              "    .dataframe tbody tr th {\n",
              "        vertical-align: top;\n",
              "    }\n",
              "\n",
              "    .dataframe thead th {\n",
              "        text-align: right;\n",
              "    }\n",
              "</style>\n",
              "<table border=\"1\" class=\"dataframe\">\n",
              "  <thead>\n",
              "    <tr style=\"text-align: right;\">\n",
              "      <th></th>\n",
              "      <th>data</th>\n",
              "      <th>order_dow</th>\n",
              "      <th>order_dow_flag</th>\n",
              "      <th>order_hour_of_day</th>\n",
              "      <th>order_hour_of_day_flag</th>\n",
              "      <th>qtd_colunas</th>\n",
              "      <th>qtd_colunas_flag</th>\n",
              "      <th>qtd_registros</th>\n",
              "      <th>qtd_registros_flag</th>\n",
              "    </tr>\n",
              "  </thead>\n",
              "  <tbody>\n",
              "    <tr>\n",
              "      <th>0</th>\n",
              "      <td>2019-11-04</td>\n",
              "      <td>[6.0, 6.0, 6.0]</td>\n",
              "      <td>0</td>\n",
              "      <td>[14.0, 0.0, 23.0]</td>\n",
              "      <td>0</td>\n",
              "      <td>10.0</td>\n",
              "      <td>0</td>\n",
              "      <td>13843.0</td>\n",
              "      <td>0</td>\n",
              "    </tr>\n",
              "    <tr>\n",
              "      <th>1</th>\n",
              "      <td>2020-09-08</td>\n",
              "      <td>[1.0, 0.0, 6.0]</td>\n",
              "      <td>0</td>\n",
              "      <td>[13.0, 0.0, 23.0]</td>\n",
              "      <td>0</td>\n",
              "      <td>10.0</td>\n",
              "      <td>0</td>\n",
              "      <td>3410.0</td>\n",
              "      <td>1</td>\n",
              "    </tr>\n",
              "    <tr>\n",
              "      <th>2</th>\n",
              "      <td>2019-11-30</td>\n",
              "      <td>[4.0, 0.0, 6.0]</td>\n",
              "      <td>0</td>\n",
              "      <td>[14.0, 0.0, 23.0]</td>\n",
              "      <td>0</td>\n",
              "      <td>10.0</td>\n",
              "      <td>0</td>\n",
              "      <td>13039.0</td>\n",
              "      <td>0</td>\n",
              "    </tr>\n",
              "  </tbody>\n",
              "</table>\n",
              "</div>"
            ],
            "text/plain": [
              "         data        order_dow  ...  qtd_registros qtd_registros_flag\n",
              "0  2019-11-04  [6.0, 6.0, 6.0]  ...        13843.0                  0\n",
              "1  2020-09-08  [1.0, 0.0, 6.0]  ...         3410.0                  1\n",
              "2  2019-11-30  [4.0, 0.0, 6.0]  ...        13039.0                  0\n",
              "\n",
              "[3 rows x 9 columns]"
            ]
          },
          "metadata": {
            "tags": []
          },
          "execution_count": 34
        }
      ]
    }
  ]
}